{
 "cells": [
  {
   "cell_type": "code",
   "execution_count": 1,
   "metadata": {},
   "outputs": [],
   "source": [
    "import csv\n",
    "\n",
    "coords = []\n",
    "\n",
    "with open(\"coords.csv\", 'r') as f:\n",
    "    reader = csv.reader(f, delimiter=',')\n",
    "    next(reader)    # skip header\n",
    "    for row in reader:\n",
    "        coords.append(row)"
   ]
  },
  {
   "cell_type": "code",
   "execution_count": null,
   "metadata": {},
   "outputs": [],
   "source": [
    "# 0 => idx\n",
    "# 1 => lng\n",
    "# 2 => lat\n",
    "# 3 => row_idx\n",
    "# 4 => status\n",
    "# 5 => radius\n",
    "# 6 => true_lat\n",
    "# 7 => true_lng\n",
    "# 8 => pano_id\n",
    "# 9 => uuid"
   ]
  },
  {
   "cell_type": "code",
   "execution_count": 7,
   "metadata": {},
   "outputs": [],
   "source": [
    "filtered_coords = list(filter(lambda x: x[4] == 'OK', coords))"
   ]
  },
  {
   "cell_type": "code",
   "execution_count": 8,
   "metadata": {},
   "outputs": [
    {
     "name": "stdout",
     "output_type": "stream",
     "text": [
      "1002322\n",
      "65767\n"
     ]
    }
   ],
   "source": [
    "print(len(coords))\n",
    "print(len(filtered_coords))"
   ]
  },
  {
   "cell_type": "code",
   "execution_count": 9,
   "metadata": {},
   "outputs": [],
   "source": [
    "pano_ids = set()\n",
    "\n",
    "unique_coords = []\n",
    "\n",
    "for x in filtered_coords:\n",
    "    if x[8] not in pano_ids:\n",
    "        unique_coords.append(x)\n",
    "    pano_ids.add(x[8])"
   ]
  },
  {
   "cell_type": "code",
   "execution_count": 10,
   "metadata": {},
   "outputs": [
    {
     "data": {
      "text/plain": [
       "60965"
      ]
     },
     "execution_count": 10,
     "metadata": {},
     "output_type": "execute_result"
    }
   ],
   "source": [
    "len(unique_coords)"
   ]
  },
  {
   "cell_type": "code",
   "execution_count": 3,
   "metadata": {},
   "outputs": [],
   "source": [
    "# uuid, lat, lng\n",
    "lumen_data = []\n",
    "\n",
    "with open(\"lumen_data.csv\", 'r') as f:\n",
    "    reader = csv.reader(f, delimiter=',')\n",
    "    next(reader)    # skip header\n",
    "    for row in reader:\n",
    "        lumen_data.append(row)"
   ]
  },
  {
   "cell_type": "code",
   "execution_count": 4,
   "metadata": {},
   "outputs": [],
   "source": [
    "lumen_coords = set()\n",
    "\n",
    "for x in lumen_data:\n",
    "    test = x[1] + x[2]\n",
    "    test = test.replace(\".\", \"\")\n",
    "    lumen_coords.add(int(test))"
   ]
  },
  {
   "cell_type": "code",
   "execution_count": 13,
   "metadata": {},
   "outputs": [],
   "source": [
    "new_coords = []\n",
    "\n",
    "for x in unique_coords:\n",
    "    test = x[6] + x[7]\n",
    "    test = test.replace(\".\", \"\")\n",
    "    test = int(test)\n",
    "\n",
    "    if test not in lumen_coords:\n",
    "        new_coords.append(x)"
   ]
  },
  {
   "cell_type": "code",
   "execution_count": 14,
   "metadata": {},
   "outputs": [
    {
     "data": {
      "text/plain": [
       "60482"
      ]
     },
     "execution_count": 14,
     "metadata": {},
     "output_type": "execute_result"
    }
   ],
   "source": [
    "len(new_coords)"
   ]
  },
  {
   "cell_type": "code",
   "execution_count": 24,
   "metadata": {},
   "outputs": [],
   "source": [
    "final_coords = new_coords[:17000]\n",
    "test_coords = new_coords[-5:]"
   ]
  },
  {
   "cell_type": "code",
   "execution_count": 25,
   "metadata": {},
   "outputs": [
    {
     "data": {
      "text/plain": [
       "[['107590',\n",
       "  '18.584162254888827',\n",
       "  '45.16289808121892',\n",
       "  '107590.0',\n",
       "  'OK',\n",
       "  '',\n",
       "  '45.15866241439915',\n",
       "  '18.58996945358293',\n",
       "  'U-HVLEAHTxZfpJv7inF9IQ',\n",
       "  '0deeb2d5-d78c-4dfe-9c4f-8a22ed7f3e9c'],\n",
       " ['107593',\n",
       "  '16.451028566488482',\n",
       "  '43.838093241368405',\n",
       "  '107593.0',\n",
       "  'OK',\n",
       "  '',\n",
       "  '43.84040998859675',\n",
       "  '16.45904943454497',\n",
       "  '4TaMb85xkGGTptBaRb5BEQ',\n",
       "  '053a9cab-cf70-4c92-aea1-b5722bd0dc1f'],\n",
       " ['107594',\n",
       "  '16.042042380262878',\n",
       "  '44.29694755161639',\n",
       "  '107594.0',\n",
       "  'OK',\n",
       "  '',\n",
       "  '44.29409074574904',\n",
       "  '16.03339223964926',\n",
       "  'Osym6IYlLFVjxjZ_SD0Asw',\n",
       "  '2aa74437-3144-4a7e-bc2a-d0404a8086c7'],\n",
       " ['107597',\n",
       "  '17.89778297344469',\n",
       "  '45.38580525582353',\n",
       "  '107597.0',\n",
       "  'OK',\n",
       "  '',\n",
       "  '45.38184532657101',\n",
       "  '17.89658677182211',\n",
       "  'QPYBlD9ioSO3QqeoB8r6GA',\n",
       "  '0c19316b-6af7-43d5-b19e-896fa71afe67'],\n",
       " ['107598',\n",
       "  '14.82343175933327',\n",
       "  '45.21424386684088',\n",
       "  '107598.0',\n",
       "  'OK',\n",
       "  '',\n",
       "  '45.21289491095704',\n",
       "  '14.8146833506772',\n",
       "  'BOn4Gzc6XVccIho1sEp-3A',\n",
       "  'f08c995c-8887-4efb-84e0-a9855c5f0672']]"
      ]
     },
     "execution_count": 25,
     "metadata": {},
     "output_type": "execute_result"
    }
   ],
   "source": [
    "test_coords"
   ]
  },
  {
   "cell_type": "code",
   "execution_count": null,
   "metadata": {},
   "outputs": [],
   "source": [
    "for x in test_coords:\n",
    "    "
   ]
  },
  {
   "cell_type": "code",
   "execution_count": null,
   "metadata": {},
   "outputs": [],
   "source": [
    "def get_pic(api_key, lat, lng):\n",
    "    pic_params = {'key': api_key,\n",
    "              'location': location,\n",
    "              'size': \"640x640\",\n",
    "              'heading': 270,}"
   ]
  }
 ],
 "metadata": {
  "interpreter": {
   "hash": "71a7c584c53f606379f1b2e2be6ed6e711b6e6cc6a97393f76cd13623dfecff4"
  },
  "kernelspec": {
   "display_name": "Python 3.10.4 64-bit (windows store)",
   "language": "python",
   "name": "python3"
  },
  "language_info": {
   "codemirror_mode": {
    "name": "ipython",
    "version": 3
   },
   "file_extension": ".py",
   "mimetype": "text/x-python",
   "name": "python",
   "nbconvert_exporter": "python",
   "pygments_lexer": "ipython3",
   "version": "3.10.4"
  },
  "orig_nbformat": 4
 },
 "nbformat": 4,
 "nbformat_minor": 2
}
