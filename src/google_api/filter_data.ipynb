{
 "cells": [
  {
   "cell_type": "code",
   "execution_count": 1,
   "metadata": {},
   "outputs": [],
   "source": [
    "import csv\n",
    "\n",
    "coords = []\n",
    "\n",
    "with open(\"coords.csv\", 'r') as f:\n",
    "    reader = csv.reader(f, delimiter=',')\n",
    "    header = next(reader)    # skip header\n",
    "    for row in reader:\n",
    "        coords.append(row)"
   ]
  },
  {
   "cell_type": "code",
   "execution_count": 3,
   "metadata": {},
   "outputs": [],
   "source": [
    "# 0 => idx\n",
    "# 1 => lng\n",
    "# 2 => lat\n",
    "# 3 => row_idx\n",
    "# 4 => status\n",
    "# 5 => radius\n",
    "# 6 => true_lat\n",
    "# 7 => true_lng\n",
    "# 8 => pano_id\n",
    "# 9 => uuid"
   ]
  },
  {
   "cell_type": "code",
   "execution_count": 2,
   "metadata": {},
   "outputs": [],
   "source": [
    "filtered_coords = list(filter(lambda x: x[4] == 'OK', coords))"
   ]
  },
  {
   "cell_type": "code",
   "execution_count": 3,
   "metadata": {},
   "outputs": [
    {
     "name": "stdout",
     "output_type": "stream",
     "text": [
      "1002322\n",
      "65767\n"
     ]
    }
   ],
   "source": [
    "print(len(coords))\n",
    "print(len(filtered_coords))"
   ]
  },
  {
   "cell_type": "code",
   "execution_count": 4,
   "metadata": {},
   "outputs": [],
   "source": [
    "pano_ids = set()\n",
    "\n",
    "unique_coords = []\n",
    "\n",
    "for x in filtered_coords:\n",
    "    if x[8] not in pano_ids:\n",
    "        unique_coords.append(x)\n",
    "    pano_ids.add(x[8])"
   ]
  },
  {
   "cell_type": "code",
   "execution_count": 5,
   "metadata": {},
   "outputs": [
    {
     "data": {
      "text/plain": [
       "60965"
      ]
     },
     "execution_count": 5,
     "metadata": {},
     "output_type": "execute_result"
    }
   ],
   "source": [
    "len(unique_coords)"
   ]
  },
  {
   "cell_type": "code",
   "execution_count": 6,
   "metadata": {},
   "outputs": [],
   "source": [
    "# uuid, lat, lng\n",
    "lumen_data = []\n",
    "\n",
    "with open(\"lumen_data.csv\", 'r') as f:\n",
    "    reader = csv.reader(f, delimiter=',')\n",
    "    next(reader)    # skip header\n",
    "    for row in reader:\n",
    "        lumen_data.append(row)"
   ]
  },
  {
   "cell_type": "code",
   "execution_count": 7,
   "metadata": {},
   "outputs": [],
   "source": [
    "lumen_coords = set()\n",
    "\n",
    "for x in lumen_data:\n",
    "    test = x[1] + x[2]\n",
    "    test = test.replace(\".\", \"\")\n",
    "    lumen_coords.add(int(test))"
   ]
  },
  {
   "cell_type": "code",
   "execution_count": 8,
   "metadata": {},
   "outputs": [],
   "source": [
    "new_coords = []\n",
    "\n",
    "for x in unique_coords:\n",
    "    test = x[6] + x[7]\n",
    "    test = test.replace(\".\", \"\")\n",
    "    test = int(test)\n",
    "\n",
    "    if test not in lumen_coords:\n",
    "        new_coords.append(x)"
   ]
  },
  {
   "cell_type": "code",
   "execution_count": 9,
   "metadata": {},
   "outputs": [
    {
     "data": {
      "text/plain": [
       "60482"
      ]
     },
     "execution_count": 9,
     "metadata": {},
     "output_type": "execute_result"
    }
   ],
   "source": [
    "len(new_coords)"
   ]
  },
  {
   "cell_type": "code",
   "execution_count": 10,
   "metadata": {},
   "outputs": [],
   "source": [
    "final_coords = new_coords[17000:34000]\n"
   ]
  },
  {
   "cell_type": "code",
   "execution_count": 12,
   "metadata": {},
   "outputs": [],
   "source": [
    "test_coords = new_coords[-30:-25]"
   ]
  },
  {
   "cell_type": "code",
   "execution_count": 13,
   "metadata": {},
   "outputs": [],
   "source": [
    "with open(\"test_coords.csv\", \"w\", newline='') as f:\n",
    "    writer = csv.writer(f)\n",
    "    writer.writerow(header)\n",
    "    for x in test_coords:\n",
    "        writer.writerow(x)"
   ]
  },
  {
   "cell_type": "code",
   "execution_count": 97,
   "metadata": {},
   "outputs": [],
   "source": [
    "final_coords = new_coords[1000:17000]"
   ]
  },
  {
   "cell_type": "code",
   "execution_count": 186,
   "metadata": {},
   "outputs": [
    {
     "data": {
      "text/plain": [
       "16000"
      ]
     },
     "execution_count": 186,
     "metadata": {},
     "output_type": "execute_result"
    }
   ],
   "source": [
    "len(final_coords)"
   ]
  },
  {
   "cell_type": "code",
   "execution_count": 11,
   "metadata": {},
   "outputs": [],
   "source": [
    "with open(\"final_coords2.csv\", \"w\", newline='') as f:\n",
    "    writer = csv.writer(f)\n",
    "    writer.writerow(header)\n",
    "    for x in final_coords:\n",
    "        writer.writerow(x)"
   ]
  },
  {
   "cell_type": "code",
   "execution_count": 211,
   "metadata": {},
   "outputs": [],
   "source": [
    "import os\n",
    "\n",
    "uuids = os.listdir(\"images\")"
   ]
  },
  {
   "cell_type": "code",
   "execution_count": 212,
   "metadata": {},
   "outputs": [],
   "source": [
    "for id in uuids:\n",
    "    files_no = len(os.listdir(f'images/{id}'))\n",
    "    if files_no != 4:\n",
    "        print(id, files_no)"
   ]
  },
  {
   "cell_type": "code",
   "execution_count": 213,
   "metadata": {},
   "outputs": [
    {
     "data": {
      "text/plain": [
       "11547"
      ]
     },
     "execution_count": 213,
     "metadata": {},
     "output_type": "execute_result"
    }
   ],
   "source": [
    "len(uuids)"
   ]
  },
  {
   "cell_type": "code",
   "execution_count": 214,
   "metadata": {},
   "outputs": [],
   "source": [
    "read_coords = []\n",
    "\n",
    "with open(\"missing_coords.csv\", 'r') as f:\n",
    "    reader = csv.reader(f, delimiter=',')\n",
    "    header = next(reader)    # skip header\n",
    "    for row in reader:\n",
    "        read_coords.append(row)"
   ]
  },
  {
   "cell_type": "code",
   "execution_count": 215,
   "metadata": {},
   "outputs": [],
   "source": [
    "read_uuids = [x[-1] for x in read_coords]"
   ]
  },
  {
   "cell_type": "code",
   "execution_count": 216,
   "metadata": {},
   "outputs": [],
   "source": [
    "read_uuids = set(read_uuids)\n",
    "folder_uuids = set(uuids)"
   ]
  },
  {
   "cell_type": "code",
   "execution_count": 217,
   "metadata": {},
   "outputs": [],
   "source": [
    "missing_set = read_uuids - folder_uuids"
   ]
  },
  {
   "cell_type": "code",
   "execution_count": 218,
   "metadata": {},
   "outputs": [
    {
     "data": {
      "text/plain": [
       "5475"
      ]
     },
     "execution_count": 218,
     "metadata": {},
     "output_type": "execute_result"
    }
   ],
   "source": [
    "final_uuids = [x[-1] for x in final_coords]\n",
    "mis_test = read_uuids - folder_uuids\n",
    "len(mis_test)"
   ]
  },
  {
   "cell_type": "code",
   "execution_count": 219,
   "metadata": {},
   "outputs": [
    {
     "data": {
      "text/plain": [
       "5475"
      ]
     },
     "execution_count": 219,
     "metadata": {},
     "output_type": "execute_result"
    }
   ],
   "source": [
    "len(missing_set)"
   ]
  },
  {
   "cell_type": "code",
   "execution_count": 220,
   "metadata": {},
   "outputs": [],
   "source": [
    "missing_coords = []\n",
    "\n",
    "for x in read_coords:\n",
    "    if x[-1] in missing_set:\n",
    "        missing_coords.append(x)"
   ]
  },
  {
   "cell_type": "code",
   "execution_count": 221,
   "metadata": {},
   "outputs": [
    {
     "data": {
      "text/plain": [
       "5475"
      ]
     },
     "execution_count": 221,
     "metadata": {},
     "output_type": "execute_result"
    }
   ],
   "source": [
    "len(missing_coords)"
   ]
  },
  {
   "cell_type": "code",
   "execution_count": 210,
   "metadata": {},
   "outputs": [],
   "source": [
    "with open(\"missing_coords.csv\", \"w\", newline='') as f:\n",
    "    writer = csv.writer(f)\n",
    "    writer.writerow(header)\n",
    "    for x in missing_coords:\n",
    "        writer.writerow(x)"
   ]
  },
  {
   "cell_type": "code",
   "execution_count": 70,
   "metadata": {},
   "outputs": [],
   "source": [
    "test_coords4 = []\n",
    "\n",
    "with open(\"test_coords4.csv\", 'r') as f:\n",
    "    reader = csv.reader(f, delimiter=',')\n",
    "    header = next(reader)    # skip header\n",
    "    for row in reader:\n",
    "        test_coords4.append(row)"
   ]
  },
  {
   "cell_type": "code",
   "execution_count": 77,
   "metadata": {},
   "outputs": [
    {
     "name": "stdout",
     "output_type": "stream",
     "text": [
      "['0.jpg', '180.jpg', '270.jpg', '90.jpg']\n",
      "['0.jpg', '180.jpg', '270.jpg', '90.jpg']\n",
      "['0.jpg', '180.jpg', '270.jpg', '90.jpg']\n",
      "['0.jpg', '180.jpg', '270.jpg', '90.jpg']\n",
      "['0.jpg', '180.jpg', '270.jpg', '90.jpg']\n"
     ]
    }
   ],
   "source": [
    "cnt = 0\n",
    "for x in test_coords4:\n",
    "    if x[-1] in uuids:\n",
    "        print(os.listdir(f\"images/{x[-1]}\"))"
   ]
  },
  {
   "cell_type": "code",
   "execution_count": null,
   "metadata": {},
   "outputs": [],
   "source": []
  }
 ],
 "metadata": {
  "interpreter": {
   "hash": "71a7c584c53f606379f1b2e2be6ed6e711b6e6cc6a97393f76cd13623dfecff4"
  },
  "kernelspec": {
   "display_name": "Python 3.10.4 64-bit (windows store)",
   "language": "python",
   "name": "python3"
  },
  "language_info": {
   "codemirror_mode": {
    "name": "ipython",
    "version": 3
   },
   "file_extension": ".py",
   "mimetype": "text/x-python",
   "name": "python",
   "nbconvert_exporter": "python",
   "pygments_lexer": "ipython3",
   "version": "3.10.4"
  },
  "orig_nbformat": 4
 },
 "nbformat": 4,
 "nbformat_minor": 2
}
